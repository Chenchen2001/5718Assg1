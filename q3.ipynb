{
 "cells": [
  {
   "cell_type": "markdown",
   "metadata": {},
   "source": [
    "In the program, we have the last digit of sid `7`, so the order no. is `7`,$S1$ is 688 *China Overseas*, initial stock price `12.18`, volatility `43.6%`; $S2$ is 857 *Petrochina*, initial stock price `6.03`, volatility `30.0%`; $S1/S2$ correlation coefficient `0.304`, Group 3.\n",
    "\n",
    "For Group 3, the $F\\%=102.6\\%, UB\\%=130.0\\%, A\\%=122.0\\%$"
   ]
  },
  {
   "cell_type": "markdown",
   "metadata": {},
   "source": [
    "All codes below were executed on an Intel Core i5-12500H chip Windows platform with 40G of RAM. For the programs below, about 1.5G available RAM is required.\n",
    "\n",
    "Programmes are executed on Python 3.10, package of `numpy` is required."
   ]
  },
  {
   "cell_type": "markdown",
   "metadata": {},
   "source": [
    "### Q3\n",
    "\n",
    "#### Product description\n",
    "HSBC's shark fin structed note with floor, based on stock $S1$\n",
    "\n",
    "| Norminal amount (NOM)           | HK$100,000                                                   |\n",
    "| ------------------------------- | ------------------------------------------------------------ |\n",
    "| Start Date ($D_s$)             | $t$                                                          |\n",
    "| Initial stock price             | $S_0$                                                        |\n",
    "| Stock price before maturity     | $S$                                                          |\n",
    "| Expiry Date ($T$)               | $t+1.25$ year                                                |\n",
    "| Expiry date stock closing price | $S_M$                                                        |\n",
    "| Strike ($K$)                    | $S_0 * 100\\%$                                                |\n",
    "| Barrier price ($P_u$)           | $S_0 * UB\\%$                                                 |\n",
    "| Floor                           | $F\\%$                                                        |\n",
    "| Participation rate              | $A\\%$                                                        |\n",
    "| Payoff at maturity              | 1. payoff = $NOM*F\\%$, if the barrier event is triggered          OR<br />2. payoff = $NOM*[100\\%+A*\\max(S_M/S_0-100\\%, 0)]$, if the barrier event is not triggered |\n",
    "| Barrier event                   | $S>P_u$ at any time before maturity or $S_M>P_u$ at maturity |\n",
    "\n",
    "Continuously compounded interest rate *r = 4.34% p.a.*\n",
    "\n",
    "$F\\%, UB\\%$ and $A\\%$ should be based on the Group number of stock *S1*. "
   ]
  },
  {
   "cell_type": "markdown",
   "metadata": {},
   "source": [
    "### Q3(i)\n",
    "\n",
    "Calculate the fair price of this product using a Monte Carlo scheme with time steps $N = 250, i.e. \\Delta t = T/N = 1/200$ (refer to the discretization scheme in Topic 1-2, slides 37 and 38).  Give the answer with 100000 paths. "
   ]
  },
  {
   "cell_type": "code",
   "execution_count": 1,
   "metadata": {},
   "outputs": [
    {
     "name": "stdout",
     "output_type": "stream",
     "text": [
      "The fair price of the product is: HK$96677.88\n"
     ]
    }
   ],
   "source": [
    "import numpy as np\n",
    "\n",
    "def calculate_fair_price(S0: float = 12.18, NOM: int = 100_000, \n",
    "                         volatility: float = 43.6/100, r: float = 4.34/100, \n",
    "                         T: float = 1.25, N: int = 250, dt: float = 1/200,\n",
    "                         num_paths: int = 100_000, F: float = 102.6/100, \n",
    "                         UB: float = 130.0/100, A: float = 122/100) -> tuple:\n",
    "    \"\"\"\n",
    "        Parameters:\n",
    "            - S0 (float): Initial stock price. Default is 12.18.\n",
    "            - NOM (int): Nominal amount of the investment. Default is 100,000.\n",
    "            - volatility (float): Annualized volatility of the stock. Default is 0.436.\n",
    "            - r (float): Continuously compounded annual interest rate. Default is 0.0434.\n",
    "            - T (float): Time to maturity in years. Default is 1.25.\n",
    "            - N (int): Number of time steps in the simulation. Default is 250.\n",
    "            - dt (float): Time step size, calculated as T/N. Default is 1/200.\n",
    "            - num_paths (int): Number of Monte Carlo simulation paths. Default is 100,000.\n",
    "            - F (float): Floor percentage of the nominal amount. Default is 1.026.\n",
    "            - UB (float): Upper barrier percentage of the initial stock price. Default is 1.30.\n",
    "            - A (float): Participation rate for the upside potential. Default is 1.22.\n",
    "\n",
    "        Returns:\n",
    "            A tuple containing:\n",
    "                - fair_price (float): The fair price of the structured note.\n",
    "                - initial_profit (float): The initial profit of the investment bank.\n",
    "    \"\"\"\n",
    "    Pu = S0 * UB\n",
    "    K = S0 * 100 / 100\n",
    "    Z = np.random.normal(0, 1, (num_paths, N))\n",
    "    S = np.zeros((num_paths, N + 1))\n",
    "    S[:, 0] = S0\n",
    "\n",
    "    for t in range(1, N + 1):\n",
    "        S[:, t] = S[:, t - 1] * np.exp((r - volatility ** 2 / 2) * dt + \\\n",
    "                                       volatility * np.sqrt(dt) * Z[:, t - 1])\n",
    "\n",
    "    # Check if barrier is triggered\n",
    "    barrier_triggered = np.any(S > Pu, axis=1)\n",
    "    # Calculate payoff at maturity\n",
    "    payoff = np.zeros(num_paths)\n",
    "    for i in range(num_paths):\n",
    "        if barrier_triggered[i]:\n",
    "            payoff[i] = NOM * F\n",
    "        else:\n",
    "            S_M = S[i, -1]\n",
    "            payoff[i] = NOM * (1 + A * max(S_M / S0 - 1, 0))\n",
    "    # Discount payoffs to present value\n",
    "    discounted_payoff = np.exp(-r * T) * payoff\n",
    "    fair_price = np.mean(discounted_payoff)\n",
    "\n",
    "    return fair_price, NOM - fair_price\n",
    "\n",
    "result = calculate_fair_price()\n",
    "print(f\"The fair price of the product is: HK${result[0]:.2f}\")"
   ]
  },
  {
   "cell_type": "markdown",
   "metadata": {},
   "source": [
    "### Q3(ii)\n",
    "\n",
    "If the product is sold to an investor at a price of 100% of the nominal amount, calculate the initial profit of the investment bank. "
   ]
  },
  {
   "cell_type": "code",
   "execution_count": 2,
   "metadata": {},
   "outputs": [
    {
     "name": "stdout",
     "output_type": "stream",
     "text": [
      "The initial profit of the investment bank is: HK$3322.12\n"
     ]
    }
   ],
   "source": [
    "print(f\"The initial profit of the investment bank is: HK${result[1]:.2f}\")"
   ]
  },
  {
   "cell_type": "markdown",
   "metadata": {},
   "source": [
    "### Q3(iii)\n",
    "\n",
    "The profit level of the investment bank depends on the ombination of $F\\%$, $UB\\%$, and $A\\%$. In each part, calculate the initial profit of the investment bank, and give a brief reason to explain the change in the profit level compared to the answer in (ii) above: \n",
    "\n",
    "(a) keeping $F\\%$ and $A\\%$ unchanged, change $UB\\%$ to $115\\%$.  Also give the answer if $UB\\%$ is changed to $135\\%$.  "
   ]
  },
  {
   "cell_type": "markdown",
   "metadata": {},
   "source": [
    "(a).1 UB = 115%"
   ]
  },
  {
   "cell_type": "code",
   "execution_count": 3,
   "metadata": {},
   "outputs": [
    {
     "name": "stdout",
     "output_type": "stream",
     "text": [
      "The initial profit of the investment bank is: HK$3443.43\n"
     ]
    }
   ],
   "source": [
    "result3a1 = calculate_fair_price(UB=115/100)\n",
    "print(f\"The initial profit of the investment bank is: HK${result3a1[1]:.2f}\")"
   ]
  },
  {
   "cell_type": "markdown",
   "metadata": {},
   "source": [
    "(a).2 UB=135%"
   ]
  },
  {
   "cell_type": "code",
   "execution_count": 4,
   "metadata": {},
   "outputs": [
    {
     "name": "stdout",
     "output_type": "stream",
     "text": [
      "The initial profit of the investment bank is: HK$3064.11\n"
     ]
    }
   ],
   "source": [
    "result3a2 = calculate_fair_price(UB=135/100)\n",
    "print(f\"The initial profit of the investment bank is: HK${result3a2[1]:.2f}\")"
   ]
  },
  {
   "cell_type": "markdown",
   "metadata": {},
   "source": [
    "(b) keeping $F\\%$ and $UB\\%$ unchanged, change $A\\%$ to $70\\%$.  Also give the answer if $A\\%$ is changed to $130\\%$. "
   ]
  },
  {
   "cell_type": "markdown",
   "metadata": {},
   "source": [
    "(b).1 A = 70%"
   ]
  },
  {
   "cell_type": "code",
   "execution_count": 5,
   "metadata": {},
   "outputs": [
    {
     "name": "stdout",
     "output_type": "stream",
     "text": [
      "The initial profit of the investment bank is: HK$3610.69\n"
     ]
    }
   ],
   "source": [
    "result3b1 = calculate_fair_price(A=70/100)\n",
    "print(f\"The initial profit of the investment bank is: HK${result3b1[1]:.2f}\")"
   ]
  },
  {
   "cell_type": "markdown",
   "metadata": {},
   "source": [
    "(b).2 A=130%"
   ]
  },
  {
   "cell_type": "code",
   "execution_count": 6,
   "metadata": {},
   "outputs": [
    {
     "name": "stdout",
     "output_type": "stream",
     "text": [
      "The initial profit of the investment bank is: HK$3269.34\n"
     ]
    }
   ],
   "source": [
    "result3b2 = calculate_fair_price(A=130/100)\n",
    "print(f\"The initial profit of the investment bank is: HK${result3b2[1]:.2f}\")"
   ]
  },
  {
   "cell_type": "markdown",
   "metadata": {},
   "source": [
    "(c)  keeping $UB\\%$ and $A\\%$ unchanged, change $F\\%$ to $104.0\\%$. "
   ]
  },
  {
   "cell_type": "markdown",
   "metadata": {},
   "source": [
    "(c).1 F = 104%"
   ]
  },
  {
   "cell_type": "code",
   "execution_count": 7,
   "metadata": {},
   "outputs": [
    {
     "name": "stdout",
     "output_type": "stream",
     "text": [
      "The initial profit of the investment bank is: HK$2633.74\n"
     ]
    }
   ],
   "source": [
    "result3c1 = calculate_fair_price(F=104/100)\n",
    "print(f\"The initial profit of the investment bank is: HK${result3c1[1]:.2f}\")"
   ]
  }
 ],
 "metadata": {
  "kernelspec": {
   "display_name": "Python 3",
   "language": "python",
   "name": "python3"
  },
  "language_info": {
   "codemirror_mode": {
    "name": "ipython",
    "version": 3
   },
   "file_extension": ".py",
   "mimetype": "text/x-python",
   "name": "python",
   "nbconvert_exporter": "python",
   "pygments_lexer": "ipython3",
   "version": "3.10.0"
  }
 },
 "nbformat": 4,
 "nbformat_minor": 2
}
