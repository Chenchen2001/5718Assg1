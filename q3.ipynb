{
 "cells": [
  {
   "cell_type": "markdown",
   "metadata": {},
   "source": [
    "In the program, we have the last digit of sid `7`, so the order no. is `7`,$S1$ is 688 *China Overseas*, initial stock price `12.18`, volatility `43.6%`; $S2$ is 857 *Petrochina*, initial stock price `6.03`, volatility `30.0%`; $S1/S2$ correlation coefficient `0.304`, Group 3.\n",
    "\n",
    "For Group 3, the $F\\%=102.6\\%, UB\\%=130.0\\%, A\\%=122.0\\%$"
   ]
  },
  {
   "cell_type": "markdown",
   "metadata": {},
   "source": [
    "### Q3\n",
    "\n",
    "#### Product description\n",
    "HSBC's shark fin structed note with floor, based on stock $S1$\n",
    "\n",
    "| Norminal amount (NOM)           | HK$100,000                                                   |\n",
    "| ------------------------------- | ------------------------------------------------------------ |\n",
    "| Start Date ($D_s$)             | $t$                                                          |\n",
    "| Initial stock price             | $S_0$                                                        |\n",
    "| Stock price before maturity     | $S$                                                          |\n",
    "| Expiry Date ($T$)               | $t+1.25$ year                                                |\n",
    "| Expiry date stock closing price | $S_M$                                                        |\n",
    "| Strike ($K$)                    | $S_0 * 100\\%$                                                |\n",
    "| Barrier price ($P_u$)           | $S_0 * UB\\%$                                                 |\n",
    "| Floor                           | $F\\%$                                                        |\n",
    "| Participation rate              | $A\\%$                                                        |\n",
    "| Payoff at maturity              | 1. payoff = $NOM*F\\%$, if the barrier event is triggered          OR<br />2. payoff = $NOM*[100\\%+A*\\max(S_M/S_0-100\\%, 0)]$, if the barrier event is triggered |\n",
    "| Barrier event                   | $S>P_u$ at any time before maturity or $S_M>P_u$ at maturity |\n",
    "\n",
    "Continuously compounded interest rate *r = 4.34% p.a.*\n",
    "\n",
    "$F\\%, UB\\%$ and $A\\%$ should be based on the Group number of stock *S1*. "
   ]
  },
  {
   "cell_type": "markdown",
   "metadata": {},
   "source": [
    "### Q3(i)\n",
    "\n",
    "Calculate the fair price of this product using a Monte Carlo scheme with time steps $N = 250, i.e. \\Delta t = T/N = 1/200$ (refer to the discretization scheme in Topic 1-2, slides 37 and 38).  Give the answer with 100000 paths. "
   ]
  },
  {
   "cell_type": "code",
   "execution_count": 1,
   "metadata": {},
   "outputs": [
    {
     "name": "stdout",
     "output_type": "stream",
     "text": [
      "Q3(i) Fair Price: HK$96673.93 (96.67% of NOM)\n"
     ]
    }
   ],
   "source": [
    "import numpy as np\n",
    "\n",
    "# Parameters\n",
    "S0 = 12.18\n",
    "sigma = 0.436\n",
    "r = 0.0434\n",
    "T = 1.25\n",
    "N = 250\n",
    "dt = T / N\n",
    "num_paths = 100000\n",
    "UB_pct = 130.0\n",
    "Pu = S0 * UB_pct / 100\n",
    "F = 102.6 / 100 \n",
    "A = 122 / 100 \n",
    "NOM = 100000\n",
    "\n",
    "np.random.seed(42)  # For reproducibility\n",
    "epsilons = np.random.normal(size=(num_paths, N))\n",
    "\n",
    "# Calculate stock paths\n",
    "drift = (r - 0.5 * sigma**2) * dt\n",
    "volatility = sigma * np.sqrt(dt)\n",
    "increments = drift + volatility * epsilons\n",
    "cumulative_increments = np.cumsum(increments, axis=1)\n",
    "log_S = np.log(S0) + cumulative_increments\n",
    "S = np.exp(log_S)\n",
    "\n",
    "# Check barrier triggering\n",
    "triggered = np.any(S >= Pu, axis=1)\n",
    "S_M = S[:, -1]\n",
    "\n",
    "# Calculate payoff\n",
    "payoff = np.where(triggered, NOM * F, NOM * (1 + A * np.maximum(S_M/S0 - 1, 0)))\n",
    "\n",
    "# Discount to present value\n",
    "present_value = payoff * np.exp(-r * T)\n",
    "fair_price = np.mean(present_value)\n",
    "\n",
    "print(f\"Q3(i) Fair Price: HK${fair_price:.2f} ({fair_price / NOM * 100:.2f}% of NOM)\")"
   ]
  },
  {
   "cell_type": "markdown",
   "metadata": {},
   "source": [
    "### Q3(ii)\n",
    "\n",
    "If the product is sold to an investor at a price of 100% of the nominal amount, calculate the initial profit of the investment bank. "
   ]
  },
  {
   "cell_type": "code",
   "execution_count": 2,
   "metadata": {},
   "outputs": [
    {
     "data": {
      "text/plain": [
       "3326.0663425905223"
      ]
     },
     "execution_count": 2,
     "metadata": {},
     "output_type": "execute_result"
    }
   ],
   "source": [
    "100000 - fair_price"
   ]
  },
  {
   "cell_type": "markdown",
   "metadata": {},
   "source": [
    "### Q3(iii)\n",
    "\n",
    "The investment bank wants to increase the initial profit to 2.25% of the nominal amount.  If F% is left unchanged, this can be achieved in two ways: (a) lowering the barrier UB% while keeping A% unchanged; (b) lowering the participation rate A%, while keeping UB% unchanged.   By trial and error with 100000 paths, give the answers for (a) and (b), with accuracy up to 0.5% (e.g. a possible answer for UB is 122.0% or 122.5%). "
   ]
  },
  {
   "cell_type": "code",
   "execution_count": 3,
   "metadata": {},
   "outputs": [
    {
     "name": "stdout",
     "output_type": "stream",
     "text": [
      "UB% = 116.5%: 96.53%\n"
     ]
    }
   ],
   "source": [
    "UB_pct_trial = 116.5\n",
    "Pu_trial = S0 * UB_pct_trial / 100\n",
    "triggered_trial = np.any(S >= Pu_trial, axis=1)\n",
    "payoff_trial = np.where(triggered_trial, NOM * F, NOM * (1 + A * np.maximum(S_M/S0 - 1, 0)))\n",
    "fair_price_trial = np.mean(payoff_trial * np.exp(-r * T))\n",
    "print(f\"UB% = {UB_pct_trial}%: {fair_price_trial / NOM * 100:.2f}%\")"
   ]
  },
  {
   "cell_type": "code",
   "execution_count": null,
   "metadata": {},
   "outputs": [],
   "source": []
  }
 ],
 "metadata": {
  "kernelspec": {
   "display_name": "Python 3",
   "language": "python",
   "name": "python3"
  },
  "language_info": {
   "codemirror_mode": {
    "name": "ipython",
    "version": 3
   },
   "file_extension": ".py",
   "mimetype": "text/x-python",
   "name": "python",
   "nbconvert_exporter": "python",
   "pygments_lexer": "ipython3",
   "version": "3.10.0"
  }
 },
 "nbformat": 4,
 "nbformat_minor": 2
}
