{
 "cells": [
  {
   "cell_type": "markdown",
   "metadata": {},
   "source": [
    "In the program, we have the last digit of sid `7`, so the order no. is `7`,$S1$ is 688 *China Overseas*, initial stock price `12.18`, volatility `43.6%`; $S2$ is 857 *Petrochina*, initial stock price `6.03`, volatility `30.0%`; $S1/S2$ correlation coefficient `0.304`, Group 3.\n",
    "\n",
    "For Group 3, the $F\\%=102.6\\%, UB\\%=130.0\\%, A\\%=122.0\\%$"
   ]
  },
  {
   "cell_type": "markdown",
   "metadata": {},
   "source": [
    "All codes below were executed on an Intel Core i5-12500H chip Windows platform with 40G of RAM. For the programs below, about 1.5G available RAM is required.\n",
    "\n",
    "Programmes are executed on Python 3.10, packages of `math`, `scipy`, `numpy` and `tqdm` required."
   ]
  },
  {
   "cell_type": "markdown",
   "metadata": {},
   "source": [
    "### Q1(i)\n",
    "Use the Black-Scholes model to price the following option for stock $S1$:\n",
    "\n",
    "European put option, at-the-money (*S=K*=price of the stock as of start date), \n",
    "continuously compounded interest rate *r = 4.17%p.a*., maturity *T = 0.75* year. \n",
    "\n",
    "[Black-Scholes formula (assume dividend yield = 0):\n",
    "\n",
    "$P=K e^{-rT}N(-d_2)-SN(-d_1)$\n",
    "\n",
    "where $d_1=\\dfrac{\\ln{(S/K)}+(r+\\sigma^2/2)T}{\\sigma\\sqrt{T}}, d_2=d_1-\\sigma\\sqrt{T}$]"
   ]
  },
  {
   "cell_type": "code",
   "execution_count": 1,
   "metadata": {},
   "outputs": [
    {
     "name": "stdout",
     "output_type": "stream",
     "text": [
      "Price of stock S1 is $1.614.\n"
     ]
    }
   ],
   "source": [
    "import math\n",
    "from scipy.stats import norm\n",
    "\n",
    "S = 12.18 # initial stock price\n",
    "K = 12.18 # given in the qustion, S = K = init price\n",
    "r = 4.17 / 100 # annualy interest rate (percentage)\n",
    "sigma = 43.6 / 100 # volatility (percentage)\n",
    "T = 0.75 # time of maturity in year\n",
    "\n",
    "d1 = (math.log(S / K) + (r + (sigma ** 2) / 2) * T) / (sigma * math.sqrt(T))\n",
    "d2 = d1 - sigma * math.sqrt(T)\n",
    "\n",
    "P = K * math.exp(-r * T) * norm.cdf(-d2) - S * norm.cdf(-d1)\n",
    "print(f\"Price of stock S1 is ${P:.3f}.\")"
   ]
  },
  {
   "cell_type": "markdown",
   "metadata": {},
   "source": [
    "### Q1(ii)\n",
    "\n",
    "Use a Monte Carlo scheme with time steps *N = 150*, i.e. $\\Delta t=T/N=1/200$ (refer to the discretization scheme in Topic 1-2, slides 37 and 38; don’t use the exact formula).  Give the answers with: (a) 10000 paths; (b) 300000 paths. \n",
    "\n",
    "[Hint: the answers for (ii)(a) and (ii)(b) should be close to the answer in (i) above]"
   ]
  },
  {
   "cell_type": "markdown",
   "metadata": {},
   "source": [
    "The following is a slow version following the slide 37 and 38 in Topic 1-2, step by step following a large table."
   ]
  },
  {
   "cell_type": "code",
   "execution_count": 2,
   "metadata": {},
   "outputs": [],
   "source": [
    "import numpy as np\n",
    "from tqdm import tqdm\n",
    "\n",
    "# Given parameters\n",
    "S0 = 12.18  # initial stock price\n",
    "K = 12.18   # strike price (at-the-money)\n",
    "r = 4.17 / 100  # continuously compounded interest rate\n",
    "sigma = 43.6 / 100  # volatility\n",
    "N = 150     # number of time steps\n",
    "dt = 1 / 200 # time step size\n",
    "T = 0.75 # total time calculated\n",
    "\n",
    "# Number of paths for the simulation\n",
    "num_paths_1 = 10_000\n",
    "num_paths_2 = 300_000\n",
    "\n",
    "def monte_carlo_option_price(num_paths: int) -> float:\n",
    "    \"\"\"\n",
    "        Calculate the Monte Carlo option price.\n",
    "\n",
    "        Parameters:\n",
    "            - num_paths (int): The number of simulation paths to use.\n",
    "\n",
    "        Returns:\n",
    "            - float: The estimated price of the option using Monte Carlo simulation.\n",
    "    \"\"\"\n",
    "    S = np.zeros((num_paths, N, 3))\n",
    "    S[:, 0, 0] = S0 # initial price\n",
    "\n",
    "    for i in tqdm(range(num_paths)):\n",
    "        z = np.random.normal(0, 1, N) # generate random sample of epsilon\n",
    "        S[i, :, 1] = z\n",
    "        for j in range(N):\n",
    "            S[i, j, 2] = dt * r * S[i, j, 0] +\\\n",
    "                  sigma * S[i, j, 0] * S[i, j, 1] * np.sqrt(dt) #delta S\n",
    "            if j != (N - 1): \n",
    "                S[i, j + 1, 0] = S[i, j, 0] + S[i, j, 2]\n",
    "\n",
    "    # Calculate the payoff at maturity\n",
    "    payoff = np.maximum(K - S[:, N - 1, 0], 0)\n",
    "\n",
    "    # Discount the average payoff to the present value\n",
    "    option_price = np.exp(-r * T) * np.mean(payoff)\n",
    "    return option_price"
   ]
  },
  {
   "cell_type": "code",
   "execution_count": 3,
   "metadata": {},
   "outputs": [
    {
     "name": "stderr",
     "output_type": "stream",
     "text": [
      "100%|██████████| 10000/10000 [00:02<00:00, 4804.77it/s]\n",
      "100%|██████████| 300000/300000 [01:00<00:00, 4962.74it/s]"
     ]
    },
    {
     "name": "stdout",
     "output_type": "stream",
     "text": [
      "Answers:\n",
      "(a) 10000 paths: $1.568;      \n",
      "(b) 300000 paths: $1.609\n"
     ]
    },
    {
     "name": "stderr",
     "output_type": "stream",
     "text": [
      "\n"
     ]
    }
   ],
   "source": [
    "# Calculate option price for 10,000 and 300,000 paths\n",
    "option_price_1 = monte_carlo_option_price(num_paths_1)\n",
    "option_price_2 = monte_carlo_option_price(num_paths_2)\n",
    "\n",
    "print(f\"Answers:\\n(a) 10000 paths: ${option_price_1:.3f};\\\n",
    "      \\n(b) 300000 paths: ${option_price_2:.3f}\")"
   ]
  },
  {
   "cell_type": "markdown",
   "metadata": {},
   "source": [
    "The function below executes the same as above but have a faster calculation."
   ]
  },
  {
   "cell_type": "code",
   "execution_count": 4,
   "metadata": {},
   "outputs": [],
   "source": [
    "def monte_carlo_option_price_faster(num_paths: int) -> float:\n",
    "    \"\"\"\n",
    "        Calculate the Monte Carlo option price.\n",
    "\n",
    "        Parameters:\n",
    "            - num_paths (int): The number of simulation paths to use.\n",
    "\n",
    "        Returns:\n",
    "            - float: The estimated price of the option using Monte Carlo simulation.\n",
    "    \"\"\"\n",
    "    S = np.zeros((num_paths))\n",
    "    S[:] = S0  # initial price\n",
    "\n",
    "    for _ in tqdm(range(N)):\n",
    "        z = np.random.normal(0, 1, num_paths) \n",
    "        dS = r * S * dt + sigma * S * z * np.sqrt(dt)\n",
    "        S += dS\n",
    "\n",
    "    # Calculate the payoff at maturity and discount to present value\n",
    "    payoff = np.maximum(S0 - S, 0)\n",
    "    option_price = np.exp(-r * T) * np.mean(payoff)\n",
    "\n",
    "    return option_price"
   ]
  },
  {
   "cell_type": "code",
   "execution_count": 5,
   "metadata": {},
   "outputs": [
    {
     "name": "stderr",
     "output_type": "stream",
     "text": [
      "100%|██████████| 150/150 [00:00<00:00, 4545.32it/s]\n",
      "100%|██████████| 150/150 [00:01<00:00, 118.66it/s]"
     ]
    },
    {
     "name": "stdout",
     "output_type": "stream",
     "text": [
      "Answers:\n",
      "(a) 10000 paths: $1.606;      \n",
      "(b) 300000 paths: $1.613\n"
     ]
    },
    {
     "name": "stderr",
     "output_type": "stream",
     "text": [
      "\n"
     ]
    }
   ],
   "source": [
    "# Calculate option price for 10,000 and 300,000 paths\n",
    "option_price_1 = monte_carlo_option_price_faster(num_paths_1)\n",
    "option_price_2 = monte_carlo_option_price_faster(num_paths_2)\n",
    "\n",
    "print(f\"Answers:\\n(a) 10000 paths: ${option_price_1:.3f};\\\n",
    "      \\n(b) 300000 paths: ${option_price_2:.3f}\")"
   ]
  }
 ],
 "metadata": {
  "kernelspec": {
   "display_name": "Python 3",
   "language": "python",
   "name": "python3"
  },
  "language_info": {
   "codemirror_mode": {
    "name": "ipython",
    "version": 3
   },
   "file_extension": ".py",
   "mimetype": "text/x-python",
   "name": "python",
   "nbconvert_exporter": "python",
   "pygments_lexer": "ipython3",
   "version": "3.10.0"
  }
 },
 "nbformat": 4,
 "nbformat_minor": 2
}
