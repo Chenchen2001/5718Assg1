{
 "cells": [
  {
   "cell_type": "markdown",
   "metadata": {},
   "source": [
    "In the program, we have the last digit of sid `7`, so the order no. is `7`,$S1$ is 688 *China Overseas*, initial stock price `12.18`, volatility `43.6%`; $S2$ is 857 *Petrochina*, initial stock price `6.03`, volatility `30.0%`; $S1/S2$ correlation coefficient `0.304`, Group 3.\n",
    "\n",
    "For Group 3, the $F\\%=102.6\\%, UB\\%=130.0\\%, A\\%=122.0\\%$"
   ]
  },
  {
   "cell_type": "markdown",
   "metadata": {},
   "source": [
    "All codes below were executed on an Intel Core i5-12500H chip Windows platform with 40G of RAM. For the programs below, about 1.5G available RAM is required.\n",
    "\n",
    "Programmes are Executed on Python 3.10, packages of `numpy` and `tqdm` are required."
   ]
  },
  {
   "cell_type": "markdown",
   "metadata": {},
   "source": [
    "### Q2\n",
    "\n",
    "The payoff of an *Average Worst-of Put Option* with two stocks *S1* and *S2* is based on the following formula:  $\\max (100\\% – A, 0)$ payable at maturity (*t = T = 0.75* year from start date). \n",
    "\n",
    "where: \n",
    "\n",
    "1. $S_{1,0}, S_{2,0}$ = stock price at time $t=0$\n",
    "2. $S_{1,1}, S_{2,1}$ = stock price at time $t=0.25$ year\n",
    "3. $S_{1,2}, S_{2,2}$ = stock price at time $t=0.75$ year\n",
    "4. $A=(B_1+B_2)/2$\n",
    "5. $B_1=\\min (S_{1,1}/S_{1,0}, S_{2,1}/S_{2,0})$\n",
    "6. $B_2=\\min (S_{1,2}/S_{1,0}, S_{2,2}/S_{2,0})$\n",
    "\n",
    "Continuously compounded interest rate *r = 4.17% p.a*. \n",
    "\n",
    "Calculate the fair price of the option as of the start date (time *t=0*). \n",
    "\n",
    "Note: The answers should be a percentage (or a decimal number) smaller than 30%, and there is no need to multiply the answers with *S1* and/or *S2*. "
   ]
  },
  {
   "cell_type": "markdown",
   "metadata": {},
   "source": [
    "### Q2(i)\n",
    "\n",
    "Use a Monte Carlo scheme with time steps *N = 150*, i.e. $\\Delta t=T/N=1/200$ (refer to the discretization scheme in Topic 1-2, slides 37 and 38).  Give the answers with: (a) 10000 paths; (b) 300000 paths.  Record the computation times in each case. \n",
    "\n",
    "[Note: in this part, don’t use the exact discretization scheme.  Marks will be deducted if the exact scheme is adopted.] "
   ]
  },
  {
   "cell_type": "markdown",
   "metadata": {},
   "source": [
    "The following is a slow version following the slide 37 and 38 in Topic 1-2, step by step following a large table."
   ]
  },
  {
   "cell_type": "code",
   "execution_count": 1,
   "metadata": {},
   "outputs": [
    {
     "name": "stdout",
     "output_type": "stream",
     "text": [
      "Now calculating Case (a):  "
     ]
    },
    {
     "name": "stderr",
     "output_type": "stream",
     "text": [
      "100%|██████████| 10000/10000 [00:04<00:00, 2343.03it/s]\n"
     ]
    },
    {
     "name": "stdout",
     "output_type": "stream",
     "text": [
      "Fair price (10,000 paths): 13.14%\n",
      "Computation time (10,000 paths): 4.29 seconds\n",
      "\n",
      "\n",
      "Now calculating Case (b):  "
     ]
    },
    {
     "name": "stderr",
     "output_type": "stream",
     "text": [
      "100%|██████████| 300000/300000 [02:01<00:00, 2472.55it/s]\n"
     ]
    },
    {
     "name": "stdout",
     "output_type": "stream",
     "text": [
      "Fair price (300,000 paths): 13.07%\n",
      "Computation time (300,000 paths): 121.64 seconds\n"
     ]
    }
   ],
   "source": [
    "import numpy as np\n",
    "import time\n",
    "from tqdm import tqdm\n",
    "\n",
    "# Parameters\n",
    "S1_0 = 12.18  # Initial stock price of China Overseas\n",
    "S2_0 = 6.03   # Initial stock price of Petrochina\n",
    "sigma1 = 43.6 / 100  # Volatility of China Overseas\n",
    "sigma2 = 30.0 / 100  # Volatility of Petrochina\n",
    "rho = 0.304    # Correlation coefficient\n",
    "r = 4.17 / 100     # Continuously compounded interest rate\n",
    "N = 150        # Number of time steps\n",
    "dt = 1 / 200     # Time step size\n",
    "T = dt * N       # Maturity time\n",
    "t1 = 0.25      # First observation time\n",
    "t2 = 0.75      # Second observation time\n",
    "num_paths_1 = 10_000    # Number of paths for case (a)\n",
    "num_paths_2 = 300_000   # Number of paths for case (b)\n",
    "\n",
    "# Generate correlated random numbers\n",
    "def generate_correlated_randoms(time_step: int, rho: float) -> tuple:\n",
    "    Z1 = np.random.normal(0, 1, time_step)\n",
    "    Z2 = np.random.normal(0, 1, time_step)\n",
    "    Z2_correlated = rho * Z1 + np.sqrt(1 - rho**2) * Z2\n",
    "    return Z1, Z2_correlated\n",
    "\n",
    "# Monte Carlo simulation\n",
    "def monte_carlo_simulation(num_paths: int) -> float:\n",
    "    S1 = np.zeros((num_paths, N, 3))\n",
    "    S1[:, 0, 0] = S1_0\n",
    "    S2 = np.zeros((num_paths, N, 3))\n",
    "    S2[:, 0, 0] = S2_0\n",
    "    payoffs = np.zeros(num_paths)\n",
    "    \n",
    "    for i in tqdm(range(num_paths)):\n",
    "        Z1, Z2 = generate_correlated_randoms(N, rho)\n",
    "        S1[i, :, 1] = Z1\n",
    "        S2[i, :, 1] = Z2\n",
    "        for j in range(N):\n",
    "            S1[i, j, 2] = dt * r * S1[i, j, 0] + sigma1 * S1[i, j, 0] * S1[i, j, 1] * np.sqrt(dt) #delta S\n",
    "            S2[i, j, 2] = dt * r * S2[i, j, 0] + sigma2 * S2[i, j, 0] * S2[i, j, 1] * np.sqrt(dt) #delta S\n",
    "            if j != (N - 1): \n",
    "                S1[i, j + 1, 0] = S1[i, j, 0] + S1[i, j, 2]   \n",
    "                S2[i, j + 1, 0] = S2[i, j, 0] + S2[i, j, 2]   \n",
    "        \n",
    "        S1_t1 = S1[i, int(t1/dt)-1, 0]\n",
    "        S2_t1 = S2[i, int(t1/dt)-1, 0]\n",
    "        S1_t2 = S1[i, int(t2/dt)-1, 0]\n",
    "        S2_t2 = S2[i, int(t2/dt)-1, 0]\n",
    "        \n",
    "        B1 = np.minimum(S1_t1 / S1_0, S2_t1 / S2_0)\n",
    "        B2 = np.minimum(S1_t2 / S1_0, S2_t2 / S2_0)\n",
    "        A = (B1 + B2) / 2\n",
    "        payoffs[i] = np.maximum(1.0 - A, 0)\n",
    "    \n",
    "    discounted_payoff = np.exp(-r * T) * payoffs\n",
    "    fair_price = np.mean(discounted_payoff)\n",
    "    return fair_price\n",
    "\n",
    "# Case (a): 10,000 paths\n",
    "print(\"Now calculating Case (a): \",end=\" \")\n",
    "start_time = time.time()\n",
    "fair_price_1 = monte_carlo_simulation(num_paths_1)\n",
    "computation_time_1 = time.time() - start_time\n",
    "print(f\"Fair price (10,000 paths): {fair_price_1 * 100:.2f}%\")\n",
    "print(f\"Computation time (10,000 paths): {computation_time_1:.2f} seconds\\n\\n\")\n",
    "\n",
    "# Case (b): 300,000 paths\n",
    "print(\"Now calculating Case (b): \",end=\" \")\n",
    "start_time = time.time()\n",
    "fair_price_2 = monte_carlo_simulation(num_paths_2)\n",
    "computation_time_2 = time.time() - start_time\n",
    "print(f\"Fair price (300,000 paths): {fair_price_2 * 100:.2f}%\")\n",
    "print(f\"Computation time (300,000 paths): {computation_time_2:.2f} seconds\")"
   ]
  },
  {
   "cell_type": "markdown",
   "metadata": {},
   "source": [
    "The method below executes the same as above but have a faster calculation."
   ]
  },
  {
   "cell_type": "code",
   "execution_count": 2,
   "metadata": {},
   "outputs": [
    {
     "name": "stdout",
     "output_type": "stream",
     "text": [
      "Now calculating Case (a):  Fair price (10,000 paths): 13.21%\n",
      "Computation time (10,000 paths): 0.09 seconds\n",
      "\n",
      "Now calculating Case (b):  Fair price (300,000 paths): 13.12%\n",
      "Computation time (300,000 paths): 5.31 seconds\n"
     ]
    }
   ],
   "source": [
    "import numpy as np\n",
    "import time\n",
    "\n",
    "# Parameters\n",
    "S1_0 = 12.18  # Initial stock price of China Overseas\n",
    "S2_0 = 6.03   # Initial stock price of Petrochina\n",
    "sigma1 = 43.6 / 100  # Volatility of China Overseas\n",
    "sigma2 = 30.0 / 100  # Volatility of Petrochina\n",
    "rho = 0.304    # Correlation coefficient\n",
    "r = 4.17 / 100     # Continuously compounded interest rate\n",
    "N = 150        # Number of time steps\n",
    "dt = 1 / 200     # Time step size\n",
    "T = dt * N       # Maturity time\n",
    "t1 = 0.25      # First observation time\n",
    "t2 = 0.75      # Second observation time\n",
    "num_paths_1 = 10_000    # Number of paths for case (a)\n",
    "num_paths_2 = 300_000   # Number of paths for case (b)\n",
    "\n",
    "# Generate correlated random numbers\n",
    "def generate_correlated_randoms(num_paths: int, time_step: int, rho: float) -> tuple:\n",
    "    Z1 = np.random.normal(0, 1, (num_paths, time_step))\n",
    "    Z2 = rho * Z1 + np.sqrt(1 - rho**2) * np.random.normal(0, 1, (num_paths, time_step))\n",
    "    return Z1, Z2\n",
    "\n",
    "# Monte Carlo simulation\n",
    "def monte_carlo_simulation(num_paths: int) -> float:\n",
    "    Z1, Z2 = generate_correlated_randoms(num_paths, N, rho)\n",
    "    S1 = np.zeros((num_paths, N))\n",
    "    S2 = np.zeros((num_paths, N))\n",
    "    S1[:, 0] = S1_0\n",
    "    S2[:, 0] = S2_0\n",
    "    \n",
    "    # Simulate price path\n",
    "    for j in range(1, N):\n",
    "        S1[:, j] = S1[:, j - 1] + dt * r * S1[:, j - 1] + sigma1 * S1[:, j - 1] * Z1[:, j - 1] * np.sqrt(dt)\n",
    "        S2[:, j] = S2[:, j - 1] + dt * r * S2[:, j - 1] + sigma2 * S2[:, j - 1] * Z2[:, j - 1] * np.sqrt(dt)        \n",
    "    \n",
    "    S1_t1 = S1[:, int(t1/dt)-1]\n",
    "    S2_t1 = S2[:, int(t1/dt)-1]\n",
    "    S1_t2 = S1[:, int(t2/dt)-1]\n",
    "    S2_t2 = S2[:, int(t2/dt)-1]\n",
    "        \n",
    "    B1 = np.minimum(S1_t1 / S1_0, S2_t1 / S2_0)\n",
    "    B2 = np.minimum(S1_t2 / S1_0, S2_t2 / S2_0)\n",
    "    A = (B1 + B2) / 2\n",
    "    payoffs = np.maximum(1.0 - A, 0)\n",
    "    \n",
    "    discounted_payoff = np.exp(-r * T) * payoffs\n",
    "    fair_price = np.mean(discounted_payoff)\n",
    "    return fair_price\n",
    "\n",
    "# Case (a): 10,000 paths\n",
    "print(\"Now calculating Case (a): \",end=\" \")\n",
    "start_time = time.time()\n",
    "fair_price_1 = monte_carlo_simulation(num_paths_1)\n",
    "computation_time_1 = time.time() - start_time\n",
    "print(f\"Fair price (10,000 paths): {fair_price_1 * 100:.2f}%\")\n",
    "print(f\"Computation time (10,000 paths): {computation_time_1:.2f} seconds\\n\")\n",
    "\n",
    "# Case (b): 300,000 paths\n",
    "print(\"Now calculating Case (b): \",end=\" \")\n",
    "start_time = time.time()\n",
    "fair_price_2 = monte_carlo_simulation(num_paths_2)\n",
    "computation_time_2 = time.time() - start_time\n",
    "print(f\"Fair price (300,000 paths): {fair_price_2 * 100:.2f}%\")\n",
    "print(f\"Computation time (300,000 paths): {computation_time_2:.2f} seconds\")"
   ]
  },
  {
   "cell_type": "markdown",
   "metadata": {},
   "source": [
    "### Q2(ii)\n",
    "\n",
    "Use a Monte Carlo scheme with two time steps N = 2, $\\Delta t_1 = 0.25, \\Delta t_2 = 0.5$ (refer to the discretization scheme in Topic 1-2, slides 39, 40, 42).  Give the answers with: (a) 10000 paths; (b) 300000 paths.  Record the computation times in each case. "
   ]
  },
  {
   "cell_type": "code",
   "execution_count": 3,
   "metadata": {},
   "outputs": [
    {
     "name": "stdout",
     "output_type": "stream",
     "text": [
      "Now calculating Case (a):  Fair price (10,000 paths): 13.30%\n",
      "Computation time (10,000 paths): 0.00 seconds\n",
      "Now calculating Case (b):  Fair price (300,000 paths): 13.14%\n",
      "Computation time (300,000 paths): 0.04 seconds\n"
     ]
    }
   ],
   "source": [
    "import numpy as np\n",
    "import time\n",
    "\n",
    "# Parameters\n",
    "S1_0 = 12.18  # Initial stock price of China Overseas\n",
    "S2_0 = 6.03   # Initial stock price of Petrochina\n",
    "sigma1 = 43.6 / 100  # Volatility of China Overseas\n",
    "sigma2 = 30.0 / 100  # Volatility of Petrochina\n",
    "rho = 0.304    # Correlation coefficient\n",
    "r = 4.17 / 100     # Continuously compounded interest rate\n",
    "T = 0.75       # Maturity time (in years)\n",
    "dt1 = 0.25     # First time step (t1 = 0.25 years)\n",
    "dt2 = 0.50     # Second time step (t2 = 0.75 years)\n",
    "num_paths_1 = 10000    # Number of paths for case (a)\n",
    "num_paths_2 = 300000   # Number of paths for case (b)\n",
    "\n",
    "# Generate correlated random numbers\n",
    "def generate_correlated_randoms(num_paths: int, rho: float) -> tuple:\n",
    "    Z1 = np.random.normal(0, 1, num_paths)\n",
    "    Z2 = np.random.normal(0, 1, num_paths)\n",
    "    Z2_correlated = rho * Z1 + np.sqrt(1 - rho**2) * Z2\n",
    "    return Z1, Z2_correlated\n",
    "\n",
    "# Monte Carlo simulation\n",
    "def monte_carlo_simulation(num_paths: int) -> float:\n",
    "    # Generate correlated random numbers for t1 and t2\n",
    "    Z1_t1, Z2_t1 = generate_correlated_randoms(num_paths, rho)\n",
    "    Z1_t2, Z2_t2 = generate_correlated_randoms(num_paths, rho)\n",
    "\n",
    "    # Simulate stock prices at t1 and t2\n",
    "    S1_t1 = S1_0 * np.exp((r - 0.5 * sigma1**2) * dt1 + sigma1 * np.sqrt(dt1) * Z1_t1)\n",
    "    S2_t1 = S2_0 * np.exp((r - 0.5 * sigma2**2) * dt1 + sigma2 * np.sqrt(dt1) * Z2_t1)\n",
    "    S1_t2 = S1_t1 * np.exp((r - 0.5 * sigma1**2) * dt2 + sigma1 * np.sqrt(dt2) * Z1_t2)\n",
    "    S2_t2 = S2_t1 * np.exp((r - 0.5 * sigma2**2) * dt2 + sigma2 * np.sqrt(dt2) * Z2_t2)\n",
    "\n",
    "    B1 = np.minimum(S1_t1 / S1_0, S2_t1 / S2_0)\n",
    "    B2 = np.minimum(S1_t2 / S1_0, S2_t2 / S2_0)\n",
    "    A = (B1 + B2) / 2\n",
    "    payoff = np.maximum(1.0 - A, 0)\n",
    "    # Discount the payoffs to present value\n",
    "    discounted_payoff = np.exp(-r * T) * payoff\n",
    "    # Compute the fair price as the average of discounted payoffs\n",
    "    fair_price = np.mean(discounted_payoff)\n",
    "    return fair_price\n",
    "\n",
    "# Case (a): 10,000 paths\n",
    "print(\"Now calculating Case (a): \",end=\" \")\n",
    "start_time = time.time()\n",
    "fair_price_1 = monte_carlo_simulation(num_paths_1)\n",
    "computation_time_1 = time.time() - start_time\n",
    "print(f\"Fair price (10,000 paths): {fair_price_1 * 100:.2f}%\")\n",
    "print(f\"Computation time (10,000 paths): {computation_time_1:.2f} seconds\")\n",
    "\n",
    "# Case (b): 300,000 paths\n",
    "print(\"Now calculating Case (b): \",end=\" \")\n",
    "start_time = time.time()\n",
    "fair_price_2 = monte_carlo_simulation(num_paths_2)\n",
    "computation_time_2 = time.time() - start_time\n",
    "print(f\"Fair price (300,000 paths): {fair_price_2 * 100:.2f}%\")\n",
    "print(f\"Computation time (300,000 paths): {computation_time_2:.2f} seconds\")"
   ]
  }
 ],
 "metadata": {
  "kernelspec": {
   "display_name": "Python 3",
   "language": "python",
   "name": "python3"
  },
  "language_info": {
   "codemirror_mode": {
    "name": "ipython",
    "version": 3
   },
   "file_extension": ".py",
   "mimetype": "text/x-python",
   "name": "python",
   "nbconvert_exporter": "python",
   "pygments_lexer": "ipython3",
   "version": "3.10.0"
  }
 },
 "nbformat": 4,
 "nbformat_minor": 2
}
