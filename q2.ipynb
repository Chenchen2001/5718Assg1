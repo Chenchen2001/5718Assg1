{
 "cells": [
  {
   "cell_type": "markdown",
   "metadata": {},
   "source": [
    "In the program, we have the last digit of sid `7`, so the order no. is `7`,$S1$ is 688 *China Overseas*, initial stock price `12.18`, volatility `43.6%`; $S2$ is 857 *Petrochina*, initial stock price `6.03`, volatility `30.0%`; $S1/S2$ correlation coefficient `0.304`, Group 3.\n",
    "\n",
    "For Group 3, the $F\\%=102.6\\%, UB\\%=130.0\\%, A\\%=122.0\\%$"
   ]
  },
  {
   "cell_type": "markdown",
   "metadata": {},
   "source": [
    "### Q2\n",
    "\n",
    "The payoff of an *Average Worst-of Put Option* with two stocks *S1* and *S2* is based on the following formula:  $\\max (100\\% – A, 0)$ payable at maturity (*t = T = 0.75* year from start date). \n",
    "\n",
    "where: \n",
    "\n",
    "1. $S_{1,0}, S_{2,0}$ = stock price at time $t=0$\n",
    "2. $S_{1,1}, S_{2,1}$ = stock price at time $t=0.25$ year\n",
    "3. $S_{1,2}, S_{2,2}$ = stock price at time $t=0.75$ year\n",
    "4. $A=(B_1+B_2)/2$\n",
    "5. $B_1=\\min (S_{1,1}/S_{1,0}, S_{2,1}/S_{2,0})$\n",
    "6. $B_2=\\min (S_{1,2}/S_{1,0}, S_{2,2}/S_{2,0})$\n",
    "\n",
    "Continuously compounded interest rate *r = 4.17% p.a*. \n",
    "\n",
    "Calculate the fair price of the option as of the start date (time *t=0*). \n",
    "\n",
    "Note: The answers should be a percentage (or a decimal number) smaller than 30%, and there is no need to multiply the answers with *S1* and/or *S2*. "
   ]
  },
  {
   "cell_type": "code",
   "execution_count": 1,
   "metadata": {},
   "outputs": [
    {
     "name": "stdout",
     "output_type": "stream",
     "text": [
      "Fair price of the option: 12.53%\n"
     ]
    }
   ],
   "source": [
    "import numpy as np\n",
    "\n",
    "S1_0 = 12.18\n",
    "S2_0 = 6.03\n",
    "sigma1 = 43.6 / 100\n",
    "sigma2 = 30.0 / 100\n",
    "rho = 0.304\n",
    "r = 4.17 / 100\n",
    "T = 0.75\n",
    "t1 = 0.25\n",
    "t2 = T - t1\n",
    "\n",
    "num_simulations = 1_000_000  # 模拟次数\n",
    "\n",
    "corr_matrix = np.array([[1, rho], [rho, 1]])\n",
    "# L = np.linalg.cholesky(corr_matrix)\n",
    "\n",
    "# generate epsilons\n",
    "epsilon1 = np.random.normal(0, 1, (num_simulations, 2))\n",
    "epsilon1 = epsilon1 @ corr_matrix.T # L.T\n",
    "S1_1 = S1_0 * np.exp((r - 0.5 * sigma1**2) * t1 + sigma1 * np.sqrt(t1) * epsilon1[:, 0])\n",
    "S2_1 = S2_0 * np.exp((r - 0.5 * sigma2**2) * t1 + sigma2 * np.sqrt(t1) * epsilon1[:, 1])\n",
    "\n",
    "epsilon2 = np.random.normal(0, 1, (num_simulations, 2))\n",
    "epsilon2 = epsilon2 @ corr_matrix.T # L.T\n",
    "S1_2 = S1_1 * np.exp((r - 0.5 * sigma1**2) * t2 + sigma1 * np.sqrt(t2) * epsilon2[:, 0])\n",
    "S2_2 = S2_1 * np.exp((r - 0.5 * sigma2**2) * t2 + sigma2 * np.sqrt(t2) * epsilon2[:, 1])\n",
    "\n",
    "# calculate A, B and payoff\n",
    "B1 = np.minimum(S1_1 / S1_0, S2_1 / S2_0)\n",
    "B2 = np.minimum(S1_2 / S1_0, S2_2 / S2_0)\n",
    "A = (B1 + B2) / 2\n",
    "payoff = np.maximum(1 - A, 0)\n",
    "\n",
    "# calculate the current value\n",
    "discount_factor = 1 / (1 + r * T) # np.exp(-r * T)\n",
    "option_price = discount_factor * np.mean(payoff)\n",
    "\n",
    "print(f\"Fair price of the option: {option_price * 100:.2f}%\")"
   ]
  },
  {
   "cell_type": "markdown",
   "metadata": {},
   "source": [
    "### Q2(i)\n",
    "\n",
    "Use a Monte Carlo scheme with time steps *N = 150*, i.e. $\\Delta t=T/N=1/200$ (refer to the discretization scheme in Topic 1-2, slides 37 and 38).  Give the answers with: (a) 10000 paths; (b) 300000 paths.  Record the computation times in each case. \n",
    "\n",
    "[Note: in this part, don’t use the exact discretization scheme.  Marks will be deducted if the exact scheme is adopted.] "
   ]
  },
  {
   "cell_type": "code",
   "execution_count": null,
   "metadata": {},
   "outputs": [
    {
     "name": "stdout",
     "output_type": "stream",
     "text": [
      "Option price with 10000 paths: 14.353848259555244%\n",
      "Computation time for 10000 paths: 0.10100412368774414 seconds\n",
      "Option price with 300000 paths: 14.404362040686175%\n",
      "Computation time for 300000 paths: 4.921932935714722 seconds\n"
     ]
    }
   ],
   "source": [
    "import numpy as np\n",
    "import time\n",
    "\n",
    "# Given parameters\n",
    "S1_0 = 12.18  # Initial stock price for S1\n",
    "S2_0 = 6.03   # Initial stock price for S2\n",
    "r = 4.17 / 100    # Continuously compounded interest rate\n",
    "sigma1 = 43.6 / 100  # Volatility for S1\n",
    "sigma2 = 30.0 / 100  # Volatility for S2\n",
    "S1S2coef = 0.304   # Correlation coefficient between S1 and S2\n",
    "T = 0.75      # Maturity in years\n",
    "N = 150       # Number of time steps\n",
    "dt = 1/200    # Time step size\n",
    "\n",
    "# Number of paths for the simulation\n",
    "num_paths_1 = 10_000\n",
    "num_paths_2 = 300_000\n",
    "\n",
    "# Function to generate correlated Brownian motions\n",
    "def generate_correlated_brownian_motion(num_paths, S1S2coef, sigma1, sigma2, dt):\n",
    "    z1 = np.random.normal(0, 1, (num_paths, N))\n",
    "    z2 = S1S2coef * z1 + np.sqrt(1 - S1S2coef**2) * np.random.normal(0, 1, (num_paths, N))\n",
    "    return z1 * np.sqrt(dt), z2 * np.sqrt(dt)\n",
    "\n",
    "# Function to perform Monte Carlo simulation\n",
    "def monte_carlo_option_price(num_paths):\n",
    "    start_time = time.time()\n",
    "    \n",
    "    # Generate correlated Brownian motions\n",
    "    z1, z2 = generate_correlated_brownian_motion(num_paths, S1S2coef, sigma1, sigma2, dt)\n",
    "    \n",
    "    # Simulate stock prices\n",
    "    S1 = np.zeros((num_paths, N + 1))\n",
    "    S2 = np.zeros((num_paths, N + 1))\n",
    "    S1[:, 0] = S1_0\n",
    "    S2[:, 0] = S2_0\n",
    "    \n",
    "    for i in range(1, N + 1):\n",
    "        S1[:, i] = S1[:, i - 1] * np.exp((r - 0.5 * sigma1**2) * dt + sigma1 * z1[:, i - 1])\n",
    "        S2[:, i] = S2[:, i - 1] * np.exp((r - 0.5 * sigma2**2) * dt + sigma2 * z2[:, i - 1])\n",
    "    \n",
    "    # Calculate B1 and B2\n",
    "    B1 = np.minimum(S1[:, 75] / S1_0, S2[:, 75] / S2_0)\n",
    "    B2 = np.minimum(S1[:, -1] / S1_0, S2[:, -1] / S2_0)\n",
    "    \n",
    "    # Calculate A\n",
    "    A = (B1 + B2) / 2\n",
    "    \n",
    "    # Calculate payoff\n",
    "    payoff = np.maximum(1 - A, 0)\n",
    "    \n",
    "    # Discount the average payoff\n",
    "    option_price = np.exp(-r * T) * np.mean(payoff)\n",
    "    \n",
    "    computation_time = time.time() - start_time\n",
    "    return option_price, computation_time\n",
    "\n",
    "# Run the simulation for 10,000 and 300,000 paths\n",
    "option_price_1, computation_time_1 = monte_carlo_option_price(num_paths_1)\n",
    "option_price_2, computation_time_2 = monte_carlo_option_price(num_paths_2)\n",
    "\n",
    "print(f\"Option price with {num_paths_1} paths: {option_price_1 * 100}%\")\n",
    "print(f\"Computation time for {num_paths_1} paths: {computation_time_1} seconds\")\n",
    "print(f\"Option price with {num_paths_2} paths: {option_price_2 * 100}%\")\n",
    "print(f\"Computation time for {num_paths_2} paths: {computation_time_2} seconds\")"
   ]
  },
  {
   "cell_type": "markdown",
   "metadata": {},
   "source": [
    "### Q2(ii)\n",
    "\n",
    "Use a Monte Carlo scheme with two time steps N = 2, $\\Delta t_1 = 0.25, \\Delta t_2 = 0.5$ (refer to the discretization scheme in Topic 1-2, slides 39, 40, 42).  Give the answers with: (a) 10000 paths; (b) 300000 paths.  Record the computation times in each case. "
   ]
  },
  {
   "cell_type": "code",
   "execution_count": 2,
   "metadata": {},
   "outputs": [
    {
     "name": "stdout",
     "output_type": "stream",
     "text": [
      "Option price with 10000 paths: 13.301575248746508%\n",
      "Computation time for 10000 paths: 0.10353612899780273 seconds\n",
      "Option price with 300000 paths: 13.139970021203442%\n",
      "Computation time for 300000 paths: 2.9412877559661865 seconds\n"
     ]
    }
   ],
   "source": [
    "import numpy as np\n",
    "import time\n",
    "\n",
    "# Given parameters\n",
    "S10 = 12.18  # Initial stock price for S1\n",
    "S20 = 6.03   # Initial stock price for S2\n",
    "r = 0.0417   # Continuously compounded interest rate\n",
    "sigma1 = 0.436  # Volatility for S1\n",
    "sigma2 = 0.30   # Volatility for S2\n",
    "S1S2coef = 0.304     # Correlation coefficient between S1 and S2\n",
    "T = 0.75       # Maturity in years\n",
    "N = 2          # Number of time steps\n",
    "dt1 = 0.25     # Time step 1\n",
    "dt2 = 0.5      # Time step 2\n",
    "numpaths1 = 10000  # Number of paths for case (a)\n",
    "numpaths2 = 300000 # Number of paths for case (b)\n",
    "\n",
    "# Simulation function\n",
    "def montecarlooptionprice(numpaths):\n",
    "    start_time = time.time()\n",
    "    \n",
    "    # Preallocate arrays for performance\n",
    "    S1_paths = np.zeros((numpaths, N+1))\n",
    "    S2_paths = np.zeros((numpaths, N+1))\n",
    "    S1_paths[:, 0] = S10\n",
    "    S2_paths[:, 0] = S20\n",
    "    \n",
    "    # Generate paths\n",
    "    for i in range(numpaths):\n",
    "        Z1 = np.random.normal(0, 1)\n",
    "        Z2 = S1S2coef * Z1 + np.sqrt(1 - S1S2coef**2) * np.random.normal(0, 1)\n",
    "        S1_paths[i, 1] = S1_paths[i, 0] * np.exp((r - 0.5 * sigma1**2) * dt1 + sigma1 * np.sqrt(dt1) * Z1)\n",
    "        S2_paths[i, 1] = S2_paths[i, 0] * np.exp((r - 0.5 * sigma2**2) * dt1 + sigma2 * np.sqrt(dt1) * Z2)\n",
    "        \n",
    "        Z1 = np.random.normal(0, 1)\n",
    "        Z2 = S1S2coef * Z1 + np.sqrt(1 - S1S2coef**2) * np.random.normal(0, 1)\n",
    "        S1_paths[i, 2] = S1_paths[i, 1] * np.exp((r - 0.5 * sigma1**2) * dt2 + sigma1 * np.sqrt(dt2) * Z1)\n",
    "        S2_paths[i, 2] = S2_paths[i, 1] * np.exp((r - 0.5 * sigma2**2) * dt2 + sigma2 * np.sqrt(dt2) * Z2)\n",
    "    \n",
    "    # Calculate B1 and B2\n",
    "    B1 = np.minimum(S1_paths[:, 1] / S10, S2_paths[:, 1] / S20)\n",
    "    B2 = np.minimum(S1_paths[:, 2] / S10, S2_paths[:, 2] / S20)\n",
    "    \n",
    "    # Calculate A\n",
    "    A = (B1 + B2) / 2\n",
    "    \n",
    "    # Calculate payoff\n",
    "    payoff = np.maximum(1 - A, 0)\n",
    "    \n",
    "    # Discount the average payoff\n",
    "    option_price = np.exp(-r * T) * np.mean(payoff)\n",
    "    \n",
    "    computation_time = time.time() - start_time\n",
    "    return option_price, computation_time\n",
    "\n",
    "# Run the simulation for both cases\n",
    "option_price1, computation_time1 = montecarlooptionprice(numpaths1)\n",
    "option_price2, computation_time2 = montecarlooptionprice(numpaths2)\n",
    "\n",
    "# Print the results\n",
    "print(f\"Option price with {numpaths1} paths: {option_price1 * 100}%\")\n",
    "print(f\"Computation time for {numpaths1} paths: {computation_time1} seconds\")\n",
    "print(f\"Option price with {numpaths2} paths: {option_price2 * 100}%\")\n",
    "print(f\"Computation time for {numpaths2} paths: {computation_time2} seconds\")"
   ]
  },
  {
   "cell_type": "markdown",
   "metadata": {},
   "source": []
  },
  {
   "cell_type": "code",
   "execution_count": null,
   "metadata": {},
   "outputs": [],
   "source": []
  }
 ],
 "metadata": {
  "kernelspec": {
   "display_name": "Python 3",
   "language": "python",
   "name": "python3"
  },
  "language_info": {
   "codemirror_mode": {
    "name": "ipython",
    "version": 3
   },
   "file_extension": ".py",
   "mimetype": "text/x-python",
   "name": "python",
   "nbconvert_exporter": "python",
   "pygments_lexer": "ipython3",
   "version": "3.10.0"
  }
 },
 "nbformat": 4,
 "nbformat_minor": 2
}
